{
 "cells": [
  {
   "cell_type": "markdown",
   "metadata": {
    "collapsed": true
   },
   "source": [
    "Let's do some five paralell line detection!"
   ]
  },
  {
   "cell_type": "code",
   "execution_count": 54,
   "metadata": {
    "collapsed": true
   },
   "outputs": [],
   "source": [
    "%matplotlib inline\n",
    "import cv2\n",
    "import numpy as np\n",
    "from matplotlib import pyplot as plt\n",
    "import math"
   ]
  },
  {
   "cell_type": "code",
   "execution_count": 7,
   "metadata": {
    "collapsed": true
   },
   "outputs": [],
   "source": [
    "def draw_detected(img,k,s):\n",
    "    width=len(img[0])\n",
    "    cv2.line(img, (0, k), (width, k), (0, 0, 255)) \n",
    "    for i in [1,2]:\n",
    "        cv2.line(img, (0, k+i*s), (width, k+i*s), (0, 0, 255))\n",
    "        cv2.line(img, (0, k-i*s), (width, k-i*s), (0, 0, 255)) \n",
    "    return img"
   ]
  },
  {
   "cell_type": "code",
   "execution_count": 58,
   "metadata": {
    "collapsed": false
   },
   "outputs": [
    {
     "name": "stdout",
     "output_type": "stream",
     "text": [
      "\n"
     ]
    }
   ],
   "source": [
    "def detect_five_lines(path_to_image,num_line):\n",
    "    img = cv2.imread(path_to_image)\n",
    "    edges = cv2.Canny(img,100,200)/255\n",
    "    \n",
    "    vote=np.zeros([len(edges),50])\n",
    "    for y in xrange(len(edges)):\n",
    "        print y,\n",
    "        for x in xrange(len(edges[0])):\n",
    "            edge_point=edges[y][x]\n",
    "            if edge_point==1:#if thie pixel is edge point\n",
    "                for s in xrange(5,50):\n",
    "                    k_set=[y-2*s,y-s,y,y+s,y+2*s]\n",
    "                    #k_set=[y-s,y,y+s]\n",
    "                    #k_set=[y,y-s,y-2*s,y-3*s,y-4*s]\n",
    "                    for k in k_set:\n",
    "                        try:\n",
    "                            if edges[k-1][x]*edges[k+1][x]:\n",
    "                                vote[k][s]+=1\n",
    "                        except(IndexError):\n",
    "                            pass\n",
    "    top_points=vote.argsort(axis=None)[::-1][0:num_line*2]\n",
    "    \n",
    "    print\n",
    "    \n",
    "    for (i,point) in enumerate(top_points):\n",
    "        index=np.unravel_index(point, vote.shape)\n",
    "        img = cv2.imread(path_to_image)\n",
    "        k=index[0]\n",
    "        s=index[1]\n",
    "        print k,s\n",
    "        n_img=draw_detected(img,k,s)\n",
    "        f=path_to_image+\"_detected%d.png\"%i\n",
    "        cv2.imwrite(f,n_img)\n",
    "        k_done.add(k)\n",
    "#         if k not in k_done:\n",
    "#             n_img=draw_detected(img,k,s)\n",
    "#             f=path_to_image+\"_detected%d.png\"%len(k_done)\n",
    "#             cv2.imwrite(f,n_img)\n",
    "#             k_done.add(k)"
   ]
  },
  {
   "cell_type": "code",
   "execution_count": 59,
   "metadata": {
    "collapsed": false
   },
   "outputs": [
    {
     "name": "stdout",
     "output_type": "stream",
     "text": [
      "0 1 2 3 4 5 6 7 8 9 10 11 12 13 14 15 16 17 18 19 20 21 22 23 24 25 26 27 28 29 30 31 32 33 34 35 36 37 38 39 40 41 42 43 44 45 46 47 48 49 50 51 52 53 54 55 56 57 58 59 60 61 62 63 64 65 66 67 68 69 70 71 72 73 74 75 76 77 78 79 80 81 82 83 84 85 86 87 88 89 90 91 92 93 94 95 96 97 98 99 100 101 102 103 104 105 106 107 108 109 110 111 112 113 114 115 116 117 118 119 120 121 122 123 124 125 126 127 128 129 130 131 132 133 134 135 136 137 138 139 140 141 142 143 144 145 146 147 148 149 150 151 152 153 154 155 156 157 158 159 160 161 162 163 164 165 166 167 168 169 170 171 172 173 174 175 176 177 178 179 180 181 182 183 184 185 186 187 188 189 190 191 192 193 194 195 196 197 198 199 200 201 202 203 204 205 206 207 208 209 210 211 212 213 214 215 216 217 218 219 220 221 222 223 224 225 226 227 228 229 230\n",
      "174 11\n",
      "125 25\n",
      "174 12\n",
      "53 12\n"
     ]
    }
   ],
   "source": [
    "path_to_image='../images/music1.png'\n",
    "detect_five_lines(path_to_image,2)"
   ]
  }
 ],
 "metadata": {
  "kernelspec": {
   "display_name": "Python 2",
   "language": "python",
   "name": "python2"
  },
  "language_info": {
   "codemirror_mode": {
    "name": "ipython",
    "version": 2
   },
   "file_extension": ".py",
   "mimetype": "text/x-python",
   "name": "python",
   "nbconvert_exporter": "python",
   "pygments_lexer": "ipython2",
   "version": "2.7.11"
  }
 },
 "nbformat": 4,
 "nbformat_minor": 0
}
