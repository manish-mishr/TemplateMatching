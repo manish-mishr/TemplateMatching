{
 "cells": [
  {
   "cell_type": "code",
   "execution_count": 4,
   "metadata": {
    "collapsed": false
   },
   "outputs": [],
   "source": [
    "%matplotlib inline\n",
    "import cv2\n",
    "import numpy as np\n",
    "from matplotlib import pyplot as plt\n",
    "import math\n",
    "\n"
   ]
  },
  {
   "cell_type": "code",
   "execution_count": 3,
   "metadata": {
    "collapsed": false
   },
   "outputs": [
    {
     "ename": "NameError",
     "evalue": "name 'hight' is not defined",
     "output_type": "error",
     "traceback": [
      "\u001b[0;31m---------------------------------------------------------------------------\u001b[0m",
      "\u001b[0;31mNameError\u001b[0m                                 Traceback (most recent call last)",
      "\u001b[0;32m<ipython-input-3-f338e39d2dc3>\u001b[0m in \u001b[0;36m<module>\u001b[0;34m()\u001b[0m\n\u001b[1;32m      2\u001b[0m \u001b[0mf\u001b[0m\u001b[0;34m=\u001b[0m\u001b[0;34m'../images/sobel_binary3.png'\u001b[0m\u001b[0;34m\u001b[0m\u001b[0m\n\u001b[1;32m      3\u001b[0m \u001b[0mimg\u001b[0m \u001b[0;34m=\u001b[0m \u001b[0mcv2\u001b[0m\u001b[0;34m.\u001b[0m\u001b[0mimread\u001b[0m\u001b[0;34m(\u001b[0m\u001b[0mf\u001b[0m\u001b[0;34m)\u001b[0m\u001b[0;34m\u001b[0m\u001b[0m\n\u001b[0;32m----> 4\u001b[0;31m \u001b[0mhalf_size\u001b[0m \u001b[0;34m=\u001b[0m \u001b[0mcv2\u001b[0m\u001b[0;34m.\u001b[0m\u001b[0mresize\u001b[0m\u001b[0;34m(\u001b[0m\u001b[0mimg\u001b[0m\u001b[0;34m,\u001b[0m\u001b[0;34m(\u001b[0m\u001b[0mhight\u001b[0m\u001b[0;34m/\u001b[0m\u001b[0;36m2\u001b[0m\u001b[0;34m,\u001b[0m\u001b[0mwidth\u001b[0m\u001b[0;34m/\u001b[0m\u001b[0;36m2\u001b[0m\u001b[0;34m)\u001b[0m\u001b[0;34m)\u001b[0m\u001b[0;34m\u001b[0m\u001b[0m\n\u001b[0m",
      "\u001b[0;31mNameError\u001b[0m: name 'hight' is not defined"
     ]
    }
   ],
   "source": [
    "#load edge map from sobel opretator\n",
    "f='../images/sobel_binary3.png'\n",
    "img = cv2.imread(f)\n",
    "hight=\n",
    "width=\n",
    "half_size = cv2.resize(img,(hight,width))"
   ]
  },
  {
   "cell_type": "code",
   "execution_count": 3,
   "metadata": {
    "collapsed": true
   },
   "outputs": [],
   "source": [
    "# function to draw a line into image numpy array.\n",
    "def draw_detected(img,k,s):\n",
    "    width=len(img[0])\n",
    "    cv2.line(img, (0, k), (width, k), (0, 0, 255)) \n",
    "    for i in [1,2]:\n",
    "        cv2.line(img, ( 0, k+i*s), (width, k+i*s), (0, 0, 255))\n",
    "        cv2.line(img, (0, k-i*s), (width, k-i*s), (0, 0, 255)) \n",
    "    return img"
   ]
  },
  {
   "cell_type": "code",
   "execution_count": 4,
   "metadata": {
    "collapsed": true
   },
   "outputs": [],
   "source": [
    "# function to draw a line and same to image file.\n",
    "def draw_lines(k,s,img,f):\n",
    "    n_img=draw_detected(img,k,s)\n",
    "    cv2.imwrite(f,n_img)"
   ]
  },
  {
   "cell_type": "code",
   "execution_count": 5,
   "metadata": {
    "collapsed": false,
    "scrolled": true
   },
   "outputs": [
    {
     "name": "stdout",
     "output_type": "stream",
     "text": [
      "0 1 2 3 4 5 6 7 8 9 10 11 12 13 14 15 16 17 18 19 20 21 22 23 24 25 26 27 28 29 30 31 32 33 34 35 36 37 38 39 40 41 42 43 44 45 46 47 48 49 50 51 52 53 54 55 56 57 58 59 60 61 62 63 64 65 66 67 68 69 70 71 72 73 74 75 76 77 78 79 80 81 82 83 84 85 86 87 88 89 90 91 92 93 94 95 96 97 98 99 100 101 102 103 104 105 106 107 108 109 110 111 112 113 114 115 116 117 118 119 120 121 122 123 124 125 126 127 128 129 130 131 132 133 134 135 136 137 138 139 140 141 142 143 144 145 146 147 148 149 150 151 152 153 154 155 156 157 158 159 160 161 162 163 164 165 166 167 168 169 170 171 172 173 174 175 176 177 178 179 180 181 182 183 184 185 186 187 188 189 190 191 192 193 194 195 196 197 198 199 200 201 202 203 204 205 206 207 208 209 210 211 212 213 214 215 216 217 218 219 220 221 222 223 224 225 226 227 228 229 230 231 232 233 234 235 236 237 238 239 240 241 242 243 244 245 246 247 248 249 250 251 252 253 254 255 256 257 258 259 260 261 262 263 264 265 266 267 268 269 270 271 272 273 274 275 276 277 278 279 280 281 282 283 284 285 286 287 288 289 290 291 292 293 294 295 296 297 298 299 300 301 302 303 304 305 306 307 308 309 310 311 312 313 314 315 316 317 318 319 320 321 322 323 324 325 326 327 328 329 330 331 332 333 334 335 336 337 338 339 340 341 342 343 344 345 346 347 348 349 350 351 352 353 354 355 356 357 358 359 360 361 362 363 364 365 366 367 368 369 370 371 372 373 374 375 376 377 378 379 380 381 382 383 384 385 386 387 388 389 390 391 392 393 394 395 396 397 398 399 400 401 402 403 404 405 406 407 408 409 410 411 412 413 414 415 416 417 418 419 420 421 422 423 424 425 426 427 428 429 430 431 432 433 434 435 436 437 438 439 440 441 442 443 444 445 446 447 448 449 450 451 452 453 454 455 456 457 458 459 460 461 462 463 464 465 466 467 468 469 470 471 472 473 474 475 476 477 478 479 480 481 482 483 484 485 486 487 488 489 490 491 492 493 494 495\n"
     ]
    }
   ],
   "source": [
    "#perfrom \n",
    "vote=np.zeros([len(edges),50])\n",
    "for y in xrange(len(edges)):\n",
    "    print y,\n",
    "    for x in xrange(len(edges[0])):\n",
    "        if edges[y][x]==1:#if thie pixel is edge point\n",
    "            try:\n",
    "                for s in xrange(2,50):\n",
    "                    k_set=[y-2*s,y-s,y,y+s,y+2*s]\n",
    "                    for k in k_set:\n",
    "                        vote[k][s]+=1    \n",
    "            except(IndexError):\n",
    "                pass\n",
    "\n",
    "#for development\n",
    "vote_original=np.copy(vote)"
   ]
  },
  {
   "cell_type": "code",
   "execution_count": 6,
   "metadata": {
    "collapsed": false
   },
   "outputs": [
    {
     "name": "stdout",
     "output_type": "stream",
     "text": [
      "(423, 10) 4068.0\n",
      "(422, 10) 3865.0\n",
      "(322, 10) 3822.0\n",
      "(323, 11) 3644.0\n",
      "(413, 10) 3507.0\n",
      "(422, 11) 3495.0\n",
      "(423, 11) 3489.0\n",
      "(169, 10) 3477.0\n",
      "(433, 10) 3456.0\n",
      "(170, 10) 3437.0\n"
     ]
    }
   ],
   "source": [
    "#show top ten points \n",
    "top_points=vote.argsort(axis=None)[::-1][0:10]\n",
    "for i in top_points:\n",
    "    index=np.unravel_index(i, vote.shape)\n",
    "    print np.unravel_index(i, vote.shape),vote[index[0]][index[1]]"
   ]
  },
  {
   "cell_type": "code",
   "execution_count": 7,
   "metadata": {
    "collapsed": false
   },
   "outputs": [
    {
     "data": {
      "text/plain": [
       "<matplotlib.colorbar.Colorbar at 0x109930d50>"
      ]
     },
     "execution_count": 7,
     "metadata": {},
     "output_type": "execute_result"
    },
    {
     "data": {
      "image/png": "[encoded data removed]",
      "text/plain": [
       "<matplotlib.figure.Figure at 0x105833e10>"
      ]
     },
     "metadata": {},
     "output_type": "display_data"
    }
   ],
   "source": [
    "#plot the vote in parameter space.\n",
    "plt.imshow(vote, cmap=plt.cm.hot)\n",
    "plt.colorbar()\n",
    "#plt.savefig(\"graph.pdf\")"
   ]
  },
  {
   "cell_type": "code",
   "execution_count": 11,
   "metadata": {
    "collapsed": false
   },
   "outputs": [],
   "source": [
    "#draw top ten lines into image files.\n",
    "top_points=vote.argsort(axis=None)[::-1][0:10]\n",
    "for (rank,point) in enumerate(top_points):\n",
    "    index=np.unravel_index(point, vote.shape)\n",
    "    value=vote[index[0]][index[1]]\n",
    "    k=index[0]\n",
    "    s=index[1]\n",
    "    img = cv2.imread(f)\n",
    "    n_img=draw_detected(img,k,s)\n",
    "    cv2.imwrite(f+\"_lines%d_%d_%d_%d.png\"%(rank,k,s,value),n_img)"
   ]
  },
  {
   "cell_type": "code",
   "execution_count": 9,
   "metadata": {
    "collapsed": false,
    "scrolled": true
   },
   "outputs": [
    {
     "name": "stdout",
     "output_type": "stream",
     "text": [
      "(322, 7) 71856.0\n",
      "(67, 7) 70303.0\n",
      "(72, 7) 70081.0\n",
      "(332, 7) 69503.0\n",
      "(327, 7) 69192.0\n",
      "(62, 7) 68821.0\n",
      "(317, 7) 68725.0\n",
      "(322, 12) 68328.0\n",
      "(77, 7) 68291.0\n",
      "(422, 7) 68121.0\n"
     ]
    }
   ],
   "source": [
    "#try descritization with 5*5 bin size and show top ten points \n",
    "k_div=5\n",
    "s_div=5\n",
    "vote_descrete=np.zeros([int(len(edges)/k_div),int(50/s_div)])\n",
    "for l in xrange(len(vote_descrete)):\n",
    "    for m in xrange(len(vote_descrete[0])):\n",
    "        for plus_k in xrange(k_div):\n",
    "            for plus_s in xrange(s_div):\n",
    "                desc_k=k_div*l+plus_k\n",
    "                desc_s=s_div*m+plus_s\n",
    "                try:\n",
    "                    if(vote[desc_k][desc_s]):\n",
    "                        vote_descrete[l][m]+=vote[desc_k][desc_s]\n",
    "                except(IndexError):\n",
    "                    pass;\n",
    "\n",
    "\n",
    "top_points=vote_descrete.argsort(axis=None)[::-1][0:10]\n",
    "for i in top_points:\n",
    "    index=np.unravel_index(i, vote_descrete.shape)\n",
    "    k=np.unravel_index(i, vote_descrete.shape)[0]*k_div+k_div/2\n",
    "    s=np.unravel_index(i, vote_descrete.shape)[1]*s_div+s_div/2\n",
    "    print (k,s),vote_descrete[index[0]][index[1]]"
   ]
  },
  {
   "cell_type": "code",
   "execution_count": 10,
   "metadata": {
    "collapsed": false
   },
   "outputs": [
    {
     "data": {
      "text/plain": [
       "<matplotlib.colorbar.Colorbar at 0x109fa8dd0>"
      ]
     },
     "execution_count": 10,
     "metadata": {},
     "output_type": "execute_result"
    },
    {
     "data": {
      "image/png": "[encoded data removed]",
      "text/plain": [
       "<matplotlib.figure.Figure at 0x109944fd0>"
      ]
     },
     "metadata": {},
     "output_type": "display_data"
    }
   ],
   "source": [
    "#plot the descritized voting space\n",
    "plt.imshow(vote_descrete, cmap=plt.cm.hot)\n",
    "plt.colorbar()\n",
    "#plt.savefig(\"graph.pdf\")"
   ]
  }
 ],
 "metadata": {
  "kernelspec": {
   "display_name": "Python 2",
   "language": "python",
   "name": "python2"
  },
  "language_info": {
   "codemirror_mode": {
    "name": "ipython",
    "version": 2
   },
   "file_extension": ".py",
   "mimetype": "text/x-python",
   "name": "python",
   "nbconvert_exporter": "python",
   "pygments_lexer": "ipython2",
   "version": "2.7.11"
  }
 },
 "nbformat": 4,
 "nbformat_minor": 0
}
