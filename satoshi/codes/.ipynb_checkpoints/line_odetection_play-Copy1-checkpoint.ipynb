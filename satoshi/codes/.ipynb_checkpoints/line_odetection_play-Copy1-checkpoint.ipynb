{
 "cells": [
  {
   "cell_type": "markdown",
   "metadata": {
    "collapsed": true
   },
   "source": [
    "Let's do some five paralell line detection!"
   ]
  },
  {
   "cell_type": "code",
   "execution_count": 2,
   "metadata": {
    "collapsed": true
   },
   "outputs": [],
   "source": [
    "%matplotlib inline\n",
    "import cv2\n",
    "import numpy as np\n",
    "from matplotlib import pyplot as plt\n",
    "import math"
   ]
  },
  {
   "cell_type": "code",
   "execution_count": 1,
   "metadata": {
    "collapsed": true
   },
   "outputs": [],
   "source": [
    "def draw_detected(img,k,s):\n",
    "    width=len(img[0])\n",
    "    cv2.line(img, (0, k), (width, k), (0, 0, 255)) \n",
    "    for i in [1,2]:\n",
    "        cv2.line(img, (0, k+i*s), (width, k+i*s), (0, 0, 255))\n",
    "        cv2.line(img, (0, k-i*s), (width, k-i*s), (0, 0, 255)) \n",
    "    return img"
   ]
  },
  {
   "cell_type": "code",
   "execution_count": 4,
   "metadata": {
    "collapsed": false
   },
   "outputs": [],
   "source": [
    "path_to_image='../images/music1.png'\n",
    "def detect_five_line(path_to_image,num_line):\n",
    "    img = cv2.imread(path_to_image)\n",
    "    edges = cv2.Canny(img,100,200)/255\n",
    "    \n",
    "    vote=np.zeros([len(edges),50])\n",
    "    for y in xrange(len(edges)):\n",
    "        print y,\n",
    "        for x in xrange(len(edges[0])):\n",
    "            edge_point=edges[y][x]\n",
    "            if edge_point==1:#if thie pixel is edge point\n",
    "                for s in xrange(5,50):\n",
    "                    k_set=[y-2*s,y-s,y,y+s,y+2*s]\n",
    "                    #k_set=[y-s,y,y+s]\n",
    "                    #k_set=[y,y-s,y-2*s,y-3*s,y-4*s]\n",
    "                    for k in k_set:\n",
    "                        try:\n",
    "                            if edges[k-1][x]*edges[k+1][x]:\n",
    "                                vote[k][s]+=1\n",
    "                        except(IndexError):\n",
    "                            pass\n",
    "    top_points=vote.argsort(axis=None)[::-1][0:20]\n",
    "    for i in top_points:\n",
    "        index=np.unravel_index(i, vote.shape)\n",
    "        print np.unravel_index(i, vote.shape),vote[index[0]][index[1]]\n",
    "    \n",
    "    k_done=set()\n",
    "    for i in top_points[num_line*2]:\n",
    "        img = cv2.imread(path_to_image)\n",
    "        n_img=draw_detected(img,174,11)\n",
    "        f=path_to_image+\"detected%d.png\"%i\n",
    "        cv2.imwrite(f,n_img)\n",
    "        k_done"
   ]
  },
  {
   "cell_type": "code",
   "execution_count": 135,
   "metadata": {
    "collapsed": false
   },
   "outputs": [
    {
     "data": {
      "text/plain": [
       "True"
      ]
     },
     "execution_count": 135,
     "metadata": {},
     "output_type": "execute_result"
    },
    {
     "name": "stdout",
     "output_type": "stream",
     "text": [
      "\n"
     ]
    }
   ],
   "source": [
    "img = cv2.imread('../images/music1.png')\n",
    "n_img=draw_detected(img,174,11)\n",
    "f='../images/music1_detected0.png'\n",
    "cv2.imwrite(f,n_img)\n",
    "\n",
    "img = cv2.imread('../images/music1.png')\n",
    "n_img=draw_detected(img,125,25)\n",
    "f='../images/music1_detected1.png'\n",
    "cv2.imwrite(f,n_img)\n",
    "\n",
    "img = cv2.imread('../images/music1.png')\n",
    "n_img=draw_detected(img,53,12)\n",
    "f='../images/music1_detected3.png'\n",
    "cv2.imwrite(f,n_img)"
   ]
  },
  {
   "cell_type": "markdown",
   "metadata": {},
   "source": [
    "<h1>This is not good..\n",
    "Let's test with trivial case.</h1>"
   ]
  },
  {
   "cell_type": "code",
   "execution_count": 79,
   "metadata": {
    "collapsed": false
   },
   "outputs": [
    {
     "data": {
      "text/plain": [
       "(64, 64, 3)"
      ]
     },
     "execution_count": 79,
     "metadata": {},
     "output_type": "execute_result"
    },
    {
     "data": {
      "image/png": "[encoded data removed]",
      "text/plain": [
       "<matplotlib.figure.Figure at 0x109581510>"
      ]
     },
     "metadata": {},
     "output_type": "display_data"
    }
   ],
   "source": [
    "img = cv2.imread('../images/test_lines.png')\n",
    "plt.imshow(img)\n",
    "img.shape"
   ]
  },
  {
   "cell_type": "code",
   "execution_count": 80,
   "metadata": {
    "collapsed": false
   },
   "outputs": [
    {
     "data": {
      "text/plain": [
       "<matplotlib.image.AxesImage at 0x109963c50>"
      ]
     },
     "execution_count": 80,
     "metadata": {},
     "output_type": "execute_result"
    },
    {
     "data": {
      "image/png": "[encoded data removed]",
      "text/plain": [
       "<matplotlib.figure.Figure at 0x10c8d1710>"
      ]
     },
     "metadata": {},
     "output_type": "display_data"
    }
   ],
   "source": [
    "edges = cv2.Canny(img,100,200)/255\n",
    "plt.imshow(edges,cmap = 'gray')\n",
    "#cv2.imwrite(\"../images/music1_edge.png\",edges*255)"
   ]
  },
  {
   "cell_type": "code",
   "execution_count": 81,
   "metadata": {
    "collapsed": false
   },
   "outputs": [
    {
     "name": "stdout",
     "output_type": "stream",
     "text": [
      "(31, 10) 320.0\n",
      "(33, 10) 320.0\n",
      "(21, 10) 256.0\n",
      "(23, 10) 256.0\n",
      "(41, 10) 256.0\n",
      "(43, 10) 256.0\n",
      "(53, 10) 192.0\n",
      "(51, 10) 192.0\n",
      "(13, 10) 192.0\n",
      "(43, 5) 192.0\n",
      "(23, 5) 192.0\n",
      "(11, 20) 192.0\n",
      "(51, 20) 192.0\n",
      "(31, 5) 192.0\n",
      "(21, 5) 192.0\n",
      "(41, 5) 192.0\n",
      "(33, 5) 192.0\n",
      "(13, 20) 192.0\n",
      "(53, 20) 192.0\n",
      "(31, 20) 192.0\n"
     ]
    },
    {
     "data": {
      "image/png": "[encoded data removed]",
      "text/plain": [
       "<matplotlib.figure.Figure at 0x109d57fd0>"
      ]
     },
     "metadata": {},
     "output_type": "display_data"
    }
   ],
   "source": [
    "vote=np.zeros([64,64])\n",
    "for y in xrange(len(edges)):\n",
    "    for x in xrange(len(edges[0])):\n",
    "        edge_point=edges[y][x]\n",
    "        if edge_point !=0:#if thie pixel is edge point\n",
    "            for s in xrange(1,64):#cannot start from s=0 because it will be the same line\n",
    "                k_set=[y-2*s,y-s,y,y+s,y+2*s]\n",
    "                for k in k_set:\n",
    "                    if k in xrange(0,64):\n",
    "                        vote[k][s]+=1\n",
    "                        \n",
    "plt.imshow(vote, cmap=plt.cm.hot)\n",
    "plt.colorbar()\n",
    "\n",
    "top_points=vote.argsort(axis=None)[::-1][0:20]\n",
    "for i in top_points:\n",
    "    index=np.unravel_index(i, vote.shape)\n",
    "    print np.unravel_index(i, vote.shape),vote[index[0]][index[1]]"
   ]
  },
  {
   "cell_type": "code",
   "execution_count": 84,
   "metadata": {
    "collapsed": false
   },
   "outputs": [
    {
     "name": "stdout",
     "output_type": "stream",
     "text": [
      "(31, 10) 64.0\n",
      "(33, 10) 64.0\n",
      "(63, 63) 0.0\n",
      "(21, 20) 0.0\n",
      "(21, 16) 0.0\n",
      "(21, 17) 0.0\n",
      "(21, 18) 0.0\n",
      "(21, 19) 0.0\n",
      "(21, 21) 0.0\n",
      "(21, 14) 0.0\n",
      "(21, 22) 0.0\n",
      "(21, 23) 0.0\n",
      "(21, 24) 0.0\n",
      "(21, 25) 0.0\n",
      "(21, 26) 0.0\n",
      "(21, 27) 0.0\n",
      "(21, 15) 0.0\n",
      "(21, 13) 0.0\n",
      "(21, 29) 0.0\n",
      "(21, 12) 0.0\n"
     ]
    },
    {
     "data": {
      "image/png": "[encoded data removed]",
      "text/plain": [
       "<matplotlib.figure.Figure at 0x1097efe50>"
      ]
     },
     "metadata": {},
     "output_type": "display_data"
    }
   ],
   "source": [
    "#five pararell points at the same time\n",
    "vote=np.zeros([64,64])\n",
    "for y in xrange(len(edges)):\n",
    "    for x in xrange(len(edges[0])):\n",
    "        edge_point=edges[y][x]\n",
    "        if edge_point !=0:#if thie pixel is edge point\n",
    "            for s in xrange(1,64):#cannot start from s=0 because it will be the same line\n",
    "                flag=1\n",
    "                try:\n",
    "                    if edges[y-2*s][x]*edges[y-s][x]*edges[y+2*s][x]*edges[y+2*s][x]==1:\n",
    "                        vote[y][s]+=1\n",
    "                except(IndexError):\n",
    "                    pass\n",
    "                                                \n",
    "plt.imshow(vote, cmap=plt.cm.hot)\n",
    "plt.colorbar()\n",
    "\n",
    "top_points=vote.argsort(axis=None)[::-1][0:20]\n",
    "for i in top_points:\n",
    "    index=np.unravel_index(i, vote.shape)\n",
    "    print np.unravel_index(i, vote.shape),vote[index[0]][index[1]]\n",
    "    "
   ]
  },
  {
   "cell_type": "code",
   "execution_count": 76,
   "metadata": {
    "collapsed": false
   },
   "outputs": [
    {
     "data": {
      "text/plain": [
       "1"
      ]
     },
     "execution_count": 76,
     "metadata": {},
     "output_type": "execute_result"
    }
   ],
   "source": [
    "True*True"
   ]
  },
  {
   "cell_type": "code",
   "execution_count": 40,
   "metadata": {
    "collapsed": false
   },
   "outputs": [
    {
     "name": "stdout",
     "output_type": "stream",
     "text": [
      "(31, 10) 512.0\n",
      "(43, 10) 448.0\n",
      "(52, 19) 384.0\n",
      "(37, 4) 320.0\n",
      "(34, 7) 320.0\n",
      "(52, 31) 320.0\n",
      "(40, 7) 320.0\n",
      "(25, 4) 320.0\n",
      "(28, 7) 320.0\n",
      "(37, 16) 320.0\n"
     ]
    }
   ],
   "source": [
    "#行列を半分に\n",
    "vote_descrete=np.zeros([int(64/3),int(64/3)])\n",
    "for l in xrange(len(vote_descrete)):\n",
    "    for m in xrange(len(vote_descrete[0])):\n",
    "        vote_descrete[l][m]=vote[3*l][3*m]+vote[3*l+1][3*m+1]+vote[3*l+2][3*m+2]\n",
    "\n",
    "top_points=vote_descrete.argsort(axis=None)[::-1][0:10]\n",
    "for i in top_points:\n",
    "    index=np.unravel_index(i, vote_descrete.shape)\n",
    "    k=np.unravel_index(i, vote_descrete.shape)[0]*3+1\n",
    "    s=np.unravel_index(i, vote_descrete.shape)[1]*3+1\n",
    "    print (k,s),vote_descrete[index[0]][index[1]]"
   ]
  },
  {
   "cell_type": "code",
   "execution_count": 64,
   "metadata": {
    "collapsed": false
   },
   "outputs": [
    {
     "data": {
      "text/plain": [
       "True"
      ]
     },
     "execution_count": 64,
     "metadata": {},
     "output_type": "execute_result"
    }
   ],
   "source": [
    "n_img=draw_detected(img,31,10)\n",
    "f='../images/test_lines_detected.png'\n",
    "cv2.imwrite(f,n_img)"
   ]
  },
  {
   "cell_type": "markdown",
   "metadata": {},
   "source": [
    "Do it again for musics"
   ]
  },
  {
   "cell_type": "code",
   "execution_count": 128,
   "metadata": {
    "collapsed": false
   },
   "outputs": [
    {
     "data": {
      "text/plain": [
       "<matplotlib.image.AxesImage at 0x10e560a50>"
      ]
     },
     "execution_count": 128,
     "metadata": {},
     "output_type": "execute_result"
    },
    {
     "data": {
      "image/png": "[encoded data removed]",
      "text/plain": [
       "<matplotlib.figure.Figure at 0x10c2d8cd0>"
      ]
     },
     "metadata": {},
     "output_type": "display_data"
    }
   ],
   "source": [
    "img = cv2.imread('../images/music1.png')\n",
    "edges = cv2.Canny(img,100,200)\n",
    "plt.imshow(edges,cmap = 'gray')"
   ]
  },
  {
   "cell_type": "code",
   "execution_count": 131,
   "metadata": {
    "collapsed": false
   },
   "outputs": [
    {
     "name": "stdout",
     "output_type": "stream",
     "text": [
      " 0 1 2 3 4 5 6 7 8 9 10 11 12 13 14 15 16 17 18 19 20 21 22 23 24 25 26 27 28 29 30 31 32 33 34 35 36 37 38 39 40 41 42 43 44 45 46 47 48 49 50 51 52 53 54 55 56 57 58 59 60 61 62 63 64 65 66 67 68 69 70 71 72 73 74 75 76 77 78 79 80 81 82 83 84 85 86 87 88 89 90 91 92 93 94 95 96 97 98 99 100 101 102 103 104 105 106 107 108 109 110 111 112 113 114 115 116 117 118 119 120 121 122 123 124 125 126 127 128 129 130 131 132 133 134 135 136 137 138 139 140 141 142 143 144 145 146 147 148 149 150 151 152 153 154 155 156 157 158 159 160 161 162 163 164 165 166 167 168 169 170 171 172 173 174 175 176 177 178 179 180 181 182 183 184 185 186 187 188 189 190 191 192 193 194 195 196 197 198 199 200 201 202 203 204 205 206 207 208 209 210 211 212 213 214 215 216 217 218 219 220 221 222 223 224 225 226 227 228 229 230 \n",
      "(70, 5) 35.0\n",
      "(71, 5) 35.0\n",
      "(69, 5) 35.0\n",
      "(75, 8) 33.0\n",
      "(62, 5) 33.0\n",
      "(73, 5) 33.0\n",
      "(72, 5) 32.0\n",
      "(67, 5) 31.0\n",
      "(68, 5) 31.0\n",
      "(64, 5) 30.0\n",
      "(69, 6) 30.0\n",
      "(64, 6) 30.0\n",
      "(71, 6) 30.0\n",
      "(66, 7) 30.0\n",
      "(68, 6) 30.0\n",
      "(61, 5) 29.0\n",
      "(63, 6) 29.0\n",
      "(66, 5) 29.0\n",
      "(66, 6) 28.0\n",
      "(71, 10) 27.0\n"
     ]
    },
    {
     "data": {
      "image/png": "[encoded data removed]",
      "text/plain": [
       "<matplotlib.figure.Figure at 0x10bea1ed0>"
      ]
     },
     "metadata": {},
     "output_type": "display_data"
    }
   ],
   "source": [
    "vote=np.zeros([200,100])\n",
    "for y in xrange(len(edges)):\n",
    "    print y,\n",
    "    for x in xrange(len(edges[0])):\n",
    "        edge_point=edges[y][x]\n",
    "        if edge_point !=0:#if thie pixel is edge point\n",
    "            for s in xrange(5,100):#cannot start from s=0 because it will be the same line\n",
    "                k_set=[y-2*s,y-s,y,y+s,y+2*s]\n",
    "                flag=0\n",
    "                for k in k_set:\n",
    "                    if k in xrange(0,200):\n",
    "                        if edges[k][x]>0:\n",
    "                            flag+=1 #if line exists on  \n",
    "                if flag>=5:\n",
    "                    vote[y][s]+=1\n",
    "                    \n",
    "plt.imshow(vote, cmap=plt.cm.hot)\n",
    "plt.colorbar()\n",
    "\n",
    "print \"\"\n",
    "\n",
    "top_points=vote.argsort(axis=None)[::-1][0:20]\n",
    "for i in top_points:\n",
    "    index=np.unravel_index(i, vote.shape)\n",
    "    print np.unravel_index(i, vote.shape),vote[index[0]][index[1]]"
   ]
  },
  {
   "cell_type": "code",
   "execution_count": null,
   "metadata": {
    "collapsed": true
   },
   "outputs": [],
   "source": []
  },
  {
   "cell_type": "code",
   "execution_count": null,
   "metadata": {
    "collapsed": false
   },
   "outputs": [],
   "source": [
    "n_img=draw_detected(img,69,10)\n",
    "f='../images/music1_detected1_.png'\n",
    "cv2.imwrite(f,n_img)"
   ]
  },
  {
   "cell_type": "code",
   "execution_count": null,
   "metadata": {
    "collapsed": true
   },
   "outputs": [],
   "source": []
  },
  {
   "cell_type": "code",
   "execution_count": null,
   "metadata": {
    "collapsed": true
   },
   "outputs": [],
   "source": []
  }
 ],
 "metadata": {
  "kernelspec": {
   "display_name": "Python 2",
   "language": "python",
   "name": "python2"
  },
  "language_info": {
   "codemirror_mode": {
    "name": "ipython",
    "version": 2
   },
   "file_extension": ".py",
   "mimetype": "text/x-python",
   "name": "python",
   "nbconvert_exporter": "python",
   "pygments_lexer": "ipython2",
   "version": "2.7.11"
  }
 },
 "nbformat": 4,
 "nbformat_minor": 0
}
